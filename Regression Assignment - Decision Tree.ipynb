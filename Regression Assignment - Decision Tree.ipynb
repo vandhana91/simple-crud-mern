{
  "nbformat": 4,
  "nbformat_minor": 5,
  "metadata": {
    "kernel_info": {
      "name": "python3"
    },
    "kernelspec": {
      "display_name": "Python 3.9",
      "identifier": "legacy",
      "language": "python",
      "language_version": "3.9",
      "name": "python3"
    },
    "selected_hardware_size": "small"
  },
  "cells": [
    {
      "id": "0ef22b7c",
      "cell_type": "code",
      "metadata": {
        "noteable": {
          "output_collection_id": "30b869c9-b551-4fc4-86eb-727c5d248f98"
        },
        "ExecuteTime": {
          "end_time": "2023-12-15T08:58:18.327883+00:00",
          "start_time": "2023-12-15T08:58:18.169845+00:00"
        }
      },
      "execution_count": null,
      "source": "import pandas as pd\ndataset = pd.read_csv('insurance_pre.csv')",
      "outputs": []
    },
    {
      "id": "4fd20d0e-41f1-4c38-8472-63ae4442e95c",
      "cell_type": "code",
      "metadata": {
        "jupyter": {
          "outputs_hidden": false,
          "source_hidden": false
        },
        "noteable": {
          "cell_type": "code",
          "output_collection_id": "e7097dae-c582-4b8b-858f-cd16d416a1d3"
        },
        "ExecuteTime": {
          "end_time": "2023-12-15T08:58:25.903757+00:00",
          "start_time": "2023-12-15T08:58:25.746349+00:00"
        }
      },
      "execution_count": null,
      "source": "dataset = pd.get_dummies(dataset)",
      "outputs": []
    },
    {
      "id": "f27f3b5f-26b6-44c6-9730-c0c1cefaf147",
      "cell_type": "code",
      "metadata": {
        "jupyter": {
          "outputs_hidden": false,
          "source_hidden": false
        },
        "noteable": {
          "cell_type": "code",
          "output_collection_id": "52c62ff8-158e-49cf-bcf6-903b62af8cc5"
        },
        "ExecuteTime": {
          "end_time": "2023-12-15T08:58:32.141665+00:00",
          "start_time": "2023-12-15T08:58:31.952132+00:00"
        },
        "datalink": {
          "7141f45d-ff90-43c8-9e75-d00ec2f9fe56": {
            "applied_filters": [],
            "dataframe_info": {
              "default_index_used": true,
              "orig_num_cols": 8,
              "orig_num_rows": 5,
              "orig_size_bytes": 220,
              "truncated_num_cols": 8,
              "truncated_num_rows": 5,
              "truncated_size_bytes": 220,
              "truncated_string_columns": []
            },
            "display_id": "7141f45d-ff90-43c8-9e75-d00ec2f9fe56",
            "dx_settings": {
              "ALLOW_NOTEABLE_ATTRS": true,
              "COLUMN_SAMPLING_METHOD": "outer",
              "DB_LOCATION": ":memory:",
              "DEV_MODE": false,
              "DISPLAY_MAX_COLUMNS": 100,
              "DISPLAY_MAX_ROWS": 50000,
              "DISPLAY_MODE": "simple",
              "ENABLE_ASSIGNMENT": true,
              "ENABLE_DATALINK": true,
              "FLATTEN_COLUMN_VALUES": true,
              "FLATTEN_INDEX_VALUES": false,
              "GENERATE_DEX_METADATA": false,
              "HTML_TABLE_SCHEMA": false,
              "LOG_LEVEL": 30,
              "MAX_RENDER_SIZE_BYTES": 104857600,
              "MAX_STRING_LENGTH": 250,
              "NUM_PAST_SAMPLES_TRACKED": 3,
              "RANDOM_STATE": 12648430,
              "RESET_INDEX_VALUES": false,
              "ROW_SAMPLING_METHOD": "random",
              "SAMPLING_FACTOR": 0.1,
              "SAMPLING_METHOD": "random",
              "STRINGIFY_COLUMN_VALUES": true,
              "STRINGIFY_INDEX_VALUES": false
            },
            "sample_history": [],
            "sampling_time": "2023-12-15T08:58:31.979495",
            "user_variable_name": null,
            "variable_name": "unk_dataframe_f314d72d17c446fbbdbadf2143d84e9e"
          }
        }
      },
      "execution_count": null,
      "source": "dataset.head()",
      "outputs": []
    },
    {
      "id": "ca921828-519d-43a2-a986-393f32e00971",
      "cell_type": "code",
      "metadata": {
        "jupyter": {
          "outputs_hidden": false,
          "source_hidden": false
        },
        "noteable": {
          "cell_type": "code",
          "output_collection_id": "494fc240-308a-4788-83d9-fa75dac34d48"
        },
        "ExecuteTime": {
          "end_time": "2023-12-15T08:58:40.343769+00:00",
          "start_time": "2023-12-15T08:58:40.187542+00:00"
        }
      },
      "execution_count": null,
      "source": "dataset.columns",
      "outputs": []
    },
    {
      "id": "bc6f43c9-9704-40ee-be36-bf092bc37397",
      "cell_type": "code",
      "metadata": {
        "jupyter": {
          "outputs_hidden": false,
          "source_hidden": false
        },
        "noteable": {
          "cell_type": "code",
          "output_collection_id": "a79a1910-9beb-4a68-97a1-1095ca968156"
        },
        "ExecuteTime": {
          "end_time": "2023-12-15T08:58:50.158423+00:00",
          "start_time": "2023-12-15T08:58:50.002235+00:00"
        }
      },
      "execution_count": null,
      "source": "independent = dataset[['age', 'bmi', 'children','sex_female', 'sex_male',\n       'smoker_no', 'smoker_yes']]\ndependent = dataset['charges']",
      "outputs": []
    },
    {
      "id": "89d2ad39-308e-4e08-b467-07f7a7a63d22",
      "cell_type": "code",
      "metadata": {
        "jupyter": {
          "outputs_hidden": false,
          "source_hidden": false
        },
        "noteable": {
          "cell_type": "code",
          "output_collection_id": "a809b743-335e-44d9-a86c-f3b0fd182e26"
        },
        "ExecuteTime": {
          "end_time": "2023-12-15T08:58:58.082697+00:00",
          "start_time": "2023-12-15T08:58:57.733300+00:00"
        }
      },
      "execution_count": null,
      "source": "from sklearn.model_selection import train_test_split\n\nx_train,x_test,y_train,y_test = train_test_split(independent,dependent,test_size = 0.30,random_state = 0)",
      "outputs": []
    },
    {
      "id": "0754601d-bc01-4b38-b6a2-34133db0af57",
      "cell_type": "code",
      "metadata": {
        "jupyter": {
          "outputs_hidden": false,
          "source_hidden": false
        },
        "noteable": {
          "cell_type": "code",
          "output_collection_id": "bc4e8a6a-edc4-4edb-bbaa-fe25439425e9"
        },
        "ExecuteTime": {
          "end_time": "2023-12-15T09:36:49.328208+00:00",
          "start_time": "2023-12-15T09:36:49.170984+00:00"
        }
      },
      "execution_count": null,
      "source": "from sklearn.tree import DecisionTreeRegressor\nregressor = DecisionTreeRegressor(criterion='poisson', splitter='random',max_features= None)\nregressor = regressor.fit(x_train,y_train)",
      "outputs": []
    },
    {
      "id": "9b184cf3-a5ac-497a-88ca-35a89cee082b",
      "cell_type": "code",
      "metadata": {
        "jupyter": {
          "outputs_hidden": false,
          "source_hidden": false
        },
        "noteable": {
          "cell_type": "code",
          "output_collection_id": "f0d71c5c-0739-4c8d-8533-f42b6e0c96a9"
        },
        "ExecuteTime": {
          "end_time": "2023-12-15T09:36:51.329272+00:00",
          "start_time": "2023-12-15T09:36:51.173626+00:00"
        }
      },
      "execution_count": null,
      "source": "y_pred = regressor.predict(x_test)",
      "outputs": []
    },
    {
      "id": "3aff0091-68f6-4b3d-8c23-c1c507e5fe4d",
      "cell_type": "code",
      "metadata": {
        "jupyter": {
          "outputs_hidden": false,
          "source_hidden": false
        },
        "noteable": {
          "cell_type": "code",
          "output_collection_id": "74b176cc-e70e-4540-8eeb-3b826f891d7a"
        },
        "ExecuteTime": {
          "end_time": "2023-12-15T09:36:54.262290+00:00",
          "start_time": "2023-12-15T09:36:54.105761+00:00"
        }
      },
      "execution_count": null,
      "source": "from sklearn.metrics import r2_score\nr_score = r2_score(y_test,y_pred)\nr_score",
      "outputs": []
    },
    {
      "id": "06edba62-c23a-4104-bf91-cd9984d142af",
      "cell_type": "code",
      "metadata": {
        "jupyter": {
          "outputs_hidden": false,
          "source_hidden": false
        },
        "noteable": {
          "cell_type": "code"
        }
      },
      "execution_count": null,
      "source": "",
      "outputs": []
    }
  ]
}